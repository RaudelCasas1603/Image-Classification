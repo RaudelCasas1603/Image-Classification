{
  "nbformat": 4,
  "nbformat_minor": 0,
  "metadata": {
    "colab": {
      "provenance": [],
      "gpuType": "T4",
      "mount_file_id": "13dZJlW4ZTh-BASAH8GQnn0vi6ITqRNPk",
      "authorship_tag": "ABX9TyPFEHDHOwjYn+Zy8oXvrjC2",
      "include_colab_link": true
    },
    "kernelspec": {
      "name": "python3",
      "display_name": "Python 3"
    },
    "language_info": {
      "name": "python"
    },
    "accelerator": "GPU",
    "gpuClass": "standard"
  },
  "cells": [
    {
      "cell_type": "markdown",
      "metadata": {
        "id": "view-in-github",
        "colab_type": "text"
      },
      "source": [
        "<a href=\"https://colab.research.google.com/github/RaudelCasas1603/Monky-Detection-/blob/main/main.ipynb\" target=\"_parent\"><img src=\"https://colab.research.google.com/assets/colab-badge.svg\" alt=\"Open In Colab\"/></a>"
      ]
    },
    {
      "cell_type": "code",
      "execution_count": null,
      "metadata": {
        "id": "I2PO6teSHZc9"
      },
      "outputs": [],
      "source": [
        "!pip install tensorflow tensorflow_io matplotlib"
      ]
    },
    {
      "cell_type": "code",
      "source": [
        "import os\n",
        "from matplotlib import pyplot as plt\n",
        "import tensorflow as tf \n",
        "import tensorflow_io as tfio\n",
        "\n",
        "# Import the model for training\n",
        "from tensorflow.keras.models import Sequential\n",
        "from tensorflow.keras.layers import Conv2D, Dense, Flatten"
      ],
      "metadata": {
        "id": "cdvEDJl-IMT_"
      },
      "execution_count": 2,
      "outputs": []
    },
    {
      "cell_type": "code",
      "source": [
        "# Catch the path of the direcotries of the data\n",
        "DIR_CAPUCHIN = os.path.join('data', 'Parsed_Capuchinbird_Clips')\n",
        "DIR_NO_CAPUCHIN = os.path.join('data', 'Parsed_Not_Capuchinbird_Clips')"
      ],
      "metadata": {
        "id": "ApEtwHzYNAbJ"
      },
      "execution_count": 3,
      "outputs": []
    },
    {
      "cell_type": "code",
      "source": [
        "# load_wav_16k_mono: To pass from 44100Hz to 16000hz audio signal\n",
        "def load_wav_16k_mono(filename):\n",
        "    file_contents = tf.io.read_file(filename)\n",
        "    wav, sample_rate = tf.audio.decode_wav(file_contents, desired_channels=1)\n",
        "    wav = tf.squeeze(wav, axis=-1)\n",
        "    sample_rate = tf.cast(sample_rate, dtype=tf.int64)\n",
        "    wav = tfio.audio.resample(wav, rate_in=sample_rate, rate_out=16000)\n",
        "    return wav\n",
        "\n",
        "# preprocess: To preprocess and gets the spectrogram of each audio file\n",
        "def preprocess(file_path, label): \n",
        "    wav = load_wav_16k_mono(file_path)\n",
        "    wav = wav[:48000]\n",
        "    zero_padding = tf.zeros([48000] - tf.shape(wav), dtype=tf.float32)\n",
        "    wav = tf.concat([zero_padding, wav],0)\n",
        "    spectrogram = tf.signal.stft(wav, frame_length=320, frame_step=32)\n",
        "    spectrogram = tf.abs(spectrogram)\n",
        "    spectrogram = tf.expand_dims(spectrogram, axis=2)\n",
        "    return spectrogram, label"
      ],
      "metadata": {
        "id": "F_rcg0YTNEgs"
      },
      "execution_count": 4,
      "outputs": []
    },
    {
      "cell_type": "code",
      "source": [
        "# Create the dataframes\n",
        "ds_capuchin = tf.data.Dataset.list_files(DIR_CAPUCHIN + '/*.wav')\n",
        "ds_no_capuchin = tf.data.Dataset.list_files(DIR_NO_CAPUCHIN + '/*.wav')"
      ],
      "metadata": {
        "id": "nmcsVpt_NHBJ"
      },
      "execution_count": 5,
      "outputs": []
    },
    {
      "cell_type": "code",
      "source": [
        "# Add the labels\n",
        "positives = tf.data.Dataset.zip((ds_capuchin, tf.data.Dataset.from_tensor_slices(tf.ones(len(ds_capuchin)))))\n",
        "negatives = tf.data.Dataset.zip((ds_no_capuchin, tf.data.Dataset.from_tensor_slices(tf.zeros(len(ds_no_capuchin)))))"
      ],
      "metadata": {
        "id": "VNEMXOQmNKza"
      },
      "execution_count": 6,
      "outputs": []
    },
    {
      "cell_type": "code",
      "source": [
        "# Combine the data for the training\n",
        "ds = positives.concatenate(negatives)"
      ],
      "metadata": {
        "id": "rRabN61hNPPp"
      },
      "execution_count": 7,
      "outputs": []
    },
    {
      "cell_type": "code",
      "source": [
        "# Map the preprocess function to have the label\n",
        "ds = ds.map(preprocess)\n",
        "ds = ds.cache()\n",
        "ds = ds.shuffle(buffer_size = 1000)  # Shuffle  the data\n",
        "ds = ds.batch(16)           # Train each 16 samples\n",
        "ds = ds.prefetch(8)         # Overlaps the preprocessing and model execution of a training step"
      ],
      "metadata": {
        "colab": {
          "base_uri": "https://localhost:8080/"
        },
        "id": "U5Z3FQJaNSGr",
        "outputId": "d4739950-a3f3-47eb-c092-c4df6b6116ed"
      },
      "execution_count": 8,
      "outputs": [
        {
          "output_type": "stream",
          "name": "stderr",
          "text": [
            "WARNING:tensorflow:Using a while_loop for converting IO>AudioResample cause there is no registered converter for this op.\n"
          ]
        }
      ]
    },
    {
      "cell_type": "code",
      "source": [
        " # Split into testing and training partions\n",
        "train = ds.take(36)       # for training\n",
        "test = ds.skip(36).take(15) # for testing the model"
      ],
      "metadata": {
        "id": "Wr7DbF4RNgpV"
      },
      "execution_count": 9,
      "outputs": []
    },
    {
      "cell_type": "code",
      "source": [
        " # Create the AI model \n",
        "model = Sequential()\n",
        "model.add(Conv2D(16, (3, 3), activation = 'relu', input_shape = (1491, 257, 1)))  #  Add the first layer\n",
        "model.add(Conv2D(16, (3, 3), activation = 'relu'))  # Add the second layer\n",
        "model.add(Flatten())                                # Add the flatter layer to be one dimension\n",
        "model.add(Dense(128, activation = 'relu'))          # Add fourth layer with an output of 128 units\n",
        "model.add(Dense(1, activation = 'sigmoid'))         # Add the last layer with the binary output"
      ],
      "metadata": {
        "id": "dRKZEfLHNkmf"
      },
      "execution_count": 10,
      "outputs": []
    },
    {
      "cell_type": "code",
      "source": [
        "# Compile the model using the Adam optimizer\n",
        "model.compile('Adam', loss = 'BinaryCrossentropy',\n",
        "              metrics = [tf.keras.metrics.Recall(), tf.keras.metrics.Precision()])"
      ],
      "metadata": {
        "id": "PHIJCY5LN9RK"
      },
      "execution_count": 11,
      "outputs": []
    },
    {
      "cell_type": "code",
      "source": [
        "# fetch some data of the model \n",
        "model.summary()"
      ],
      "metadata": {
        "colab": {
          "base_uri": "https://localhost:8080/"
        },
        "id": "zZxEnhPzOAwA",
        "outputId": "4f1ddbfc-5fb7-4850-81c5-200ef6f625b3"
      },
      "execution_count": 12,
      "outputs": [
        {
          "output_type": "stream",
          "name": "stdout",
          "text": [
            "Model: \"sequential\"\n",
            "_________________________________________________________________\n",
            " Layer (type)                Output Shape              Param #   \n",
            "=================================================================\n",
            " conv2d (Conv2D)             (None, 1489, 255, 16)     160       \n",
            "                                                                 \n",
            " conv2d_1 (Conv2D)           (None, 1487, 253, 16)     2320      \n",
            "                                                                 \n",
            " flatten (Flatten)           (None, 6019376)           0         \n",
            "                                                                 \n",
            " dense (Dense)               (None, 128)               770480256 \n",
            "                                                                 \n",
            " dense_1 (Dense)             (None, 1)                 129       \n",
            "                                                                 \n",
            "=================================================================\n",
            "Total params: 770,482,865\n",
            "Trainable params: 770,482,865\n",
            "Non-trainable params: 0\n",
            "_________________________________________________________________\n"
          ]
        }
      ]
    },
    {
      "cell_type": "code",
      "source": [
        "cpus = tf.config.experimental.list_physical_devices('CPU')\n",
        "print(cpus)\n",
        "tf.config.set_visible_devices([], 'GPU')  # hide the GPU\n",
        "tf.config.set_visible_devices(cpus[0], 'CPU') # unhide potentially hidden CPU\n",
        "tf.config.get_visible_devices()"
      ],
      "metadata": {
        "colab": {
          "base_uri": "https://localhost:8080/"
        },
        "id": "iuz-xPBnSU0U",
        "outputId": "24dcee19-2d57-4df1-b918-560ee6967752"
      },
      "execution_count": 3,
      "outputs": [
        {
          "output_type": "stream",
          "name": "stdout",
          "text": [
            "[PhysicalDevice(name='/physical_device:CPU:0', device_type='CPU')]\n"
          ]
        },
        {
          "output_type": "execute_result",
          "data": {
            "text/plain": [
              "[PhysicalDevice(name='/physical_device:CPU:0', device_type='CPU')]"
            ]
          },
          "metadata": {},
          "execution_count": 3
        }
      ]
    },
    {
      "cell_type": "code",
      "source": [
        " # Train the model\n",
        "histogram = model.fit(train, epochs = 2, validation_data = test)"
      ],
      "metadata": {
        "colab": {
          "base_uri": "https://localhost:8080/"
        },
        "id": "4Jw54A0KOHIL",
        "outputId": "a07d1c96-025e-4b0b-a3c1-dafeacdf9c1c"
      },
      "execution_count": null,
      "outputs": [
        {
          "output_type": "stream",
          "name": "stdout",
          "text": [
            "Epoch 1/2\n"
          ]
        }
      ]
    }
  ]
}